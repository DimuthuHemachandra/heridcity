{
 "cells": [
  {
   "cell_type": "code",
   "execution_count": 2,
   "metadata": {
    "collapsed": true
   },
   "outputs": [],
   "source": [
    "import matplotlib.pyplot as plt\n",
    "import pandas as pd\n",
    "%matplotlib inline\n",
    "import numpy as np\n",
    "from sklearn import preprocessing\n",
    "from sklearn.decomposition import PCA"
   ]
  },
  {
   "cell_type": "code",
   "execution_count": 3,
   "metadata": {},
   "outputs": [
    {
     "data": {
      "text/html": [
       "<div>\n",
       "<style>\n",
       "    .dataframe thead tr:only-child th {\n",
       "        text-align: right;\n",
       "    }\n",
       "\n",
       "    .dataframe thead th {\n",
       "        text-align: left;\n",
       "    }\n",
       "\n",
       "    .dataframe tbody tr th {\n",
       "        vertical-align: top;\n",
       "    }\n",
       "</style>\n",
       "<table border=\"1\" class=\"dataframe\">\n",
       "  <thead>\n",
       "    <tr style=\"text-align: right;\">\n",
       "      <th></th>\n",
       "      <th>Unnamed: 0</th>\n",
       "      <th>PreCG_L_SA</th>\n",
       "      <th>SFGdor_L_SA</th>\n",
       "      <th>ORBsup_L_SA</th>\n",
       "      <th>MFG_L_SA</th>\n",
       "      <th>ORBmid_L_SA</th>\n",
       "      <th>IFGoperc_L_SA</th>\n",
       "      <th>IFGtriang_L_SA</th>\n",
       "      <th>ORBinf_L_SA</th>\n",
       "      <th>ROL_L_SA</th>\n",
       "      <th>...</th>\n",
       "      <th>SMG_R_SA</th>\n",
       "      <th>ANG_R_SA</th>\n",
       "      <th>PCUN_R_SA</th>\n",
       "      <th>PCL_R_SA</th>\n",
       "      <th>HES_R_SA</th>\n",
       "      <th>STG_R_SA</th>\n",
       "      <th>TPOsup_R_SA</th>\n",
       "      <th>MTG_R_SA</th>\n",
       "      <th>TPOmid_R_SA</th>\n",
       "      <th>ITG_R_SA</th>\n",
       "    </tr>\n",
       "  </thead>\n",
       "  <tbody>\n",
       "    <tr>\n",
       "      <th>0</th>\n",
       "      <td>PreCG_L_SA</td>\n",
       "      <td>1.0000</td>\n",
       "      <td>1.0000</td>\n",
       "      <td>0.8808</td>\n",
       "      <td>1.0</td>\n",
       "      <td>0.9256</td>\n",
       "      <td>1.0</td>\n",
       "      <td>1.0000</td>\n",
       "      <td>1.0000</td>\n",
       "      <td>1.0000</td>\n",
       "      <td>...</td>\n",
       "      <td>0.8312</td>\n",
       "      <td>0.7842</td>\n",
       "      <td>1.0000</td>\n",
       "      <td>0.9024</td>\n",
       "      <td>0.8110</td>\n",
       "      <td>0.8331</td>\n",
       "      <td>1.0000</td>\n",
       "      <td>0.9818</td>\n",
       "      <td>0.8042</td>\n",
       "      <td>1.0000</td>\n",
       "    </tr>\n",
       "    <tr>\n",
       "      <th>1</th>\n",
       "      <td>SFGdor_L_SA</td>\n",
       "      <td>1.0000</td>\n",
       "      <td>1.0000</td>\n",
       "      <td>0.9189</td>\n",
       "      <td>1.0</td>\n",
       "      <td>0.7645</td>\n",
       "      <td>1.0</td>\n",
       "      <td>0.8382</td>\n",
       "      <td>0.7414</td>\n",
       "      <td>1.0000</td>\n",
       "      <td>...</td>\n",
       "      <td>0.3758</td>\n",
       "      <td>1.0000</td>\n",
       "      <td>1.0000</td>\n",
       "      <td>0.9258</td>\n",
       "      <td>0.6636</td>\n",
       "      <td>0.7735</td>\n",
       "      <td>0.8689</td>\n",
       "      <td>0.8347</td>\n",
       "      <td>0.6427</td>\n",
       "      <td>0.7782</td>\n",
       "    </tr>\n",
       "    <tr>\n",
       "      <th>2</th>\n",
       "      <td>ORBsup_L_SA</td>\n",
       "      <td>0.9280</td>\n",
       "      <td>0.9607</td>\n",
       "      <td>1.0000</td>\n",
       "      <td>1.0</td>\n",
       "      <td>0.7919</td>\n",
       "      <td>1.0</td>\n",
       "      <td>1.0000</td>\n",
       "      <td>1.0000</td>\n",
       "      <td>1.0000</td>\n",
       "      <td>...</td>\n",
       "      <td>0.7608</td>\n",
       "      <td>0.9722</td>\n",
       "      <td>1.0000</td>\n",
       "      <td>0.8467</td>\n",
       "      <td>0.8219</td>\n",
       "      <td>1.0000</td>\n",
       "      <td>0.9791</td>\n",
       "      <td>0.8936</td>\n",
       "      <td>0.6081</td>\n",
       "      <td>1.0000</td>\n",
       "    </tr>\n",
       "    <tr>\n",
       "      <th>3</th>\n",
       "      <td>MFG_L_SA</td>\n",
       "      <td>1.0000</td>\n",
       "      <td>1.0000</td>\n",
       "      <td>1.0000</td>\n",
       "      <td>1.0</td>\n",
       "      <td>1.0000</td>\n",
       "      <td>1.0</td>\n",
       "      <td>1.0000</td>\n",
       "      <td>1.0000</td>\n",
       "      <td>0.9119</td>\n",
       "      <td>...</td>\n",
       "      <td>0.9195</td>\n",
       "      <td>1.0000</td>\n",
       "      <td>0.9402</td>\n",
       "      <td>0.9235</td>\n",
       "      <td>0.7016</td>\n",
       "      <td>0.7807</td>\n",
       "      <td>0.9519</td>\n",
       "      <td>1.0000</td>\n",
       "      <td>0.5789</td>\n",
       "      <td>1.0000</td>\n",
       "    </tr>\n",
       "    <tr>\n",
       "      <th>4</th>\n",
       "      <td>ORBmid_L_SA</td>\n",
       "      <td>0.9645</td>\n",
       "      <td>0.9061</td>\n",
       "      <td>0.8225</td>\n",
       "      <td>1.0</td>\n",
       "      <td>1.0000</td>\n",
       "      <td>1.0</td>\n",
       "      <td>0.0000</td>\n",
       "      <td>0.7443</td>\n",
       "      <td>0.9306</td>\n",
       "      <td>...</td>\n",
       "      <td>0.5381</td>\n",
       "      <td>1.0000</td>\n",
       "      <td>0.8804</td>\n",
       "      <td>0.7556</td>\n",
       "      <td>0.5598</td>\n",
       "      <td>0.1014</td>\n",
       "      <td>0.9977</td>\n",
       "      <td>0.9775</td>\n",
       "      <td>0.1466</td>\n",
       "      <td>1.0000</td>\n",
       "    </tr>\n",
       "  </tbody>\n",
       "</table>\n",
       "<p>5 rows × 79 columns</p>\n",
       "</div>"
      ],
      "text/plain": [
       "    Unnamed: 0  PreCG_L_SA  SFGdor_L_SA  ORBsup_L_SA  MFG_L_SA  ORBmid_L_SA  \\\n",
       "0   PreCG_L_SA      1.0000       1.0000       0.8808       1.0       0.9256   \n",
       "1  SFGdor_L_SA      1.0000       1.0000       0.9189       1.0       0.7645   \n",
       "2  ORBsup_L_SA      0.9280       0.9607       1.0000       1.0       0.7919   \n",
       "3     MFG_L_SA      1.0000       1.0000       1.0000       1.0       1.0000   \n",
       "4  ORBmid_L_SA      0.9645       0.9061       0.8225       1.0       1.0000   \n",
       "\n",
       "   IFGoperc_L_SA  IFGtriang_L_SA  ORBinf_L_SA  ROL_L_SA    ...     SMG_R_SA  \\\n",
       "0            1.0          1.0000       1.0000    1.0000    ...       0.8312   \n",
       "1            1.0          0.8382       0.7414    1.0000    ...       0.3758   \n",
       "2            1.0          1.0000       1.0000    1.0000    ...       0.7608   \n",
       "3            1.0          1.0000       1.0000    0.9119    ...       0.9195   \n",
       "4            1.0          0.0000       0.7443    0.9306    ...       0.5381   \n",
       "\n",
       "   ANG_R_SA  PCUN_R_SA  PCL_R_SA  HES_R_SA  STG_R_SA  TPOsup_R_SA  MTG_R_SA  \\\n",
       "0    0.7842     1.0000    0.9024    0.8110    0.8331       1.0000    0.9818   \n",
       "1    1.0000     1.0000    0.9258    0.6636    0.7735       0.8689    0.8347   \n",
       "2    0.9722     1.0000    0.8467    0.8219    1.0000       0.9791    0.8936   \n",
       "3    1.0000     0.9402    0.9235    0.7016    0.7807       0.9519    1.0000   \n",
       "4    1.0000     0.8804    0.7556    0.5598    0.1014       0.9977    0.9775   \n",
       "\n",
       "   TPOmid_R_SA  ITG_R_SA  \n",
       "0       0.8042    1.0000  \n",
       "1       0.6427    0.7782  \n",
       "2       0.6081    1.0000  \n",
       "3       0.5789    1.0000  \n",
       "4       0.1466    1.0000  \n",
       "\n",
       "[5 rows x 79 columns]"
      ]
     },
     "execution_count": 3,
     "metadata": {},
     "output_type": "execute_result"
    }
   ],
   "source": [
    "df = pd.read_csv('SA_AAL_estPropA.csv')\n",
    "#df = df.drop(df.columns[0], axis = 'columns')\n",
    "df.shape\n",
    "df.head()\n",
    "# .csv prerocessing pipeline in clustering.pynb file"
   ]
  },
  {
   "cell_type": "code",
   "execution_count": 4,
   "metadata": {
    "collapsed": true
   },
   "outputs": [],
   "source": [
    "# Separating out & normalizing the features\n",
    "x = df.iloc[:, 1:79].values\n",
    "x = preprocessing.scale(x)\n",
    "y = df.iloc[:, 0].values"
   ]
  },
  {
   "cell_type": "code",
   "execution_count": 5,
   "metadata": {},
   "outputs": [
    {
     "data": {
      "text/plain": [
       "array(['PreCG_L_SA', 'SFGdor_L_SA', 'ORBsup_L_SA', 'MFG_L_SA',\n",
       "       'ORBmid_L_SA', 'IFGoperc_L_SA', 'IFGtriang_L_SA', 'ORBinf_L_SA',\n",
       "       'ROL_L_SA', 'SMA_L_SA', 'OLF_L_SA', 'SFGmed_L_SA', 'ORBsupmed_L_SA',\n",
       "       'REC_L_SA', 'INS_L_SA', 'ACG_L_SA', 'DCG_L_SA', 'PCG_L_SA',\n",
       "       'PHG_L_SA', 'CAL_L_SA', 'CUN_L_SA', 'LING_L_SA', 'SOG_L_SA',\n",
       "       'MOG_L_SA', 'IOG_L_SA', 'FFG_L_SA', 'PoCG_L_SA', 'SPG_L_SA',\n",
       "       'IPL_L_SA', 'SMG_L_SA', 'ANG_L_SA', 'PCUN_L_SA', 'PCL_L_SA',\n",
       "       'HES_L_SA', 'STG_L_SA', 'TPOsup_L_SA', 'MTG_L_SA', 'TPOmid_L_SA',\n",
       "       'ITG_L_SA', 'PreCG_R_SA', 'SFGdor_R_SA', 'ORBsup_R_SA', 'MFG_R_SA',\n",
       "       'ORBmid_R_SA', 'IFGoperc_R_SA', 'IFGtriang_R_SA', 'ORBinf_R_SA',\n",
       "       'ROL_R_SA', 'SMA_R_SA', 'OLF_R_SA', 'SFGmed_R_SA', 'ORBsupmed_R_SA',\n",
       "       'REC_R_SA', 'INS_R_SA', 'ACG_R_SA', 'DCG_R_SA', 'PCG_R_SA',\n",
       "       'PHG_R_SA', 'CAL_R_SA', 'CUN_R_SA', 'LING_R_SA', 'SOG_R_SA',\n",
       "       'MOG_R_SA', 'IOG_R_SA', 'FFG_R_SA', 'PoCG_R_SA', 'SPG_R_SA',\n",
       "       'IPL_R_SA', 'SMG_R_SA', 'ANG_R_SA', 'PCUN_R_SA', 'PCL_R_SA',\n",
       "       'HES_R_SA', 'STG_R_SA', 'TPOsup_R_SA', 'MTG_R_SA', 'TPOmid_R_SA',\n",
       "       'ITG_R_SA'], dtype=object)"
      ]
     },
     "execution_count": 5,
     "metadata": {},
     "output_type": "execute_result"
    }
   ],
   "source": [
    "#targets = list(df.columns)\n",
    "targets = y\n",
    "y"
   ]
  },
  {
   "cell_type": "code",
   "execution_count": 24,
   "metadata": {},
   "outputs": [
    {
     "name": "stdout",
     "output_type": "stream",
     "text": [
      "[ 0.20523434  0.06895159]\n"
     ]
    }
   ],
   "source": [
    "# pca = PCA(n_components=2)\n",
    "# principalComponents = pca.fit_transform(x)\n",
    "# principalDf = pd.DataFrame(data = principalComponents, columns = ['PC1', 'PC2'])\n",
    "# finalDf = pd.concat([principalDf, df.iloc[:, 0]], axis = 1)\n",
    "# pca.explained_variance_ratio_\n",
    "\n",
    "def pca_script(n, x): # n = number of components, x features\n",
    "    pca = PCA(n_components=n)\n",
    "    principalComponents = pca.fit_transform(x)\n",
    "    a = []\n",
    "    for i in range(1,n+1):\n",
    "        a.append(\"PCA_\"+str(n))\n",
    "    principalDf = pd.DataFrame(data = principalComponents, columns = a)\n",
    "    finalDf = pd.concat([principalDf, df.iloc[:, 0]], axis = 1)\n",
    "    #print(pca.explained_variance_ratio_)\n",
    "pca_script(4,x)\n",
    "print(pca.explained_variance_ratio_)"
   ]
  },
  {
   "cell_type": "code",
   "execution_count": 7,
   "metadata": {},
   "outputs": [
    {
     "data": {
      "image/png": "[encoded data removed]",
      "text/plain": [
       "<matplotlib.figure.Figure at 0x1155375f8>"
      ]
     },
     "metadata": {},
     "output_type": "display_data"
    }
   ],
   "source": [
    "fig = plt.figure(figsize = (8,8))\n",
    "ax = fig.add_subplot(1,1,1) \n",
    "ax.set_xlabel('PC1', fontsize = 15)\n",
    "ax.set_ylabel('PC2', fontsize = 15)\n",
    "ax.set_title('2-Component PCA', fontsize = 20)\n",
    "for target in targets:\n",
    "     indicesToKeep = df.iloc[:, 0].values == target\n",
    "     ax.scatter(finalDf.loc[indicesToKeep, 'PC1']\n",
    "                , finalDf.loc[indicesToKeep, 'PC2']\n",
    "                #, c = color\n",
    "                , s = 50)\n",
    "ax.grid()"
   ]
  },
  {
   "cell_type": "code",
   "execution_count": null,
   "metadata": {
    "collapsed": true
   },
   "outputs": [],
   "source": [
    "##### TEST: How many components to select ##### "
   ]
  },
  {
   "cell_type": "code",
   "execution_count": 187,
   "metadata": {},
   "outputs": [
    {
     "data": {
      "text/plain": [
       "array([ 0.23354774,  0.11475039,  0.06810382,  0.04120661,  0.03132366,\n",
       "        0.02704538,  0.02453726])"
      ]
     },
     "execution_count": 187,
     "metadata": {},
     "output_type": "execute_result"
    }
   ],
   "source": [
    "    ### Testing 7 components ### \n",
    "        # pca = PCA(n_components=7)\n",
    "        # principalComponents = pca.fit_transform(x)\n",
    "        # principalDf = pd.DataFrame(data = principalComponents, columns = ['PC1', 'PC2','PC3','PC4','PC5','PC6','PC7'])\n",
    "        # pca.explained_variance_ratio_\n",
    "            # OUTPUT: array([ 0.23354774,  0.11475039,  0.06810382,  0.04120661,  0.03132366,\n",
    "                #0.02704538,  0.02453726])"
   ]
  },
  {
   "cell_type": "code",
   "execution_count": null,
   "metadata": {
    "collapsed": true
   },
   "outputs": [],
   "source": [
    "    ### Conclusion ### \n",
    "        # We selected the first two principal components (PCs) because the additional components\n",
    "        # explain less than 7% of the variance \n",
    "        # (PC1: 23.4% of the variance; P2: 11.5% of the variance)."
   ]
  },
  {
   "cell_type": "code",
   "execution_count": 7,
   "metadata": {},
   "outputs": [
    {
     "data": {
      "text/plain": [
       "array([ 0.233734  ,  0.11484077])"
      ]
     },
     "execution_count": 7,
     "metadata": {},
     "output_type": "execute_result"
    }
   ],
   "source": [
    "### Variance explained by each component ###\n",
    "pca.explained_variance_ratio_\n",
    "    # OUTPUT: array([ 0.23354774,  0.11475039])"
   ]
  },
  {
   "cell_type": "code",
   "execution_count": 9,
   "metadata": {},
   "outputs": [
    {
     "data": {
      "image/png": "[encoded data removed]",
      "text/plain": [
       "<matplotlib.figure.Figure at 0x1194d73c8>"
      ]
     },
     "metadata": {},
     "output_type": "display_data"
    }
   ],
   "source": [
    "### FUNCTION to generate heat map of each PC explained by descriptors ###\n",
    "\n",
    "def heat_map(ar, n,m):\n",
    "    c = np.delete(ar,0,0)\n",
    "    c = c.astype(np.float)\n",
    "    plt.matshow(c,cmap='viridis',vmin=n,vmax=m)\n",
    "    plt.yticks([0,1],['PC1','PC2'],fontsize=10)\n",
    "    t = c.shape[1]\n",
    "    \n",
    "    plt.xticks(range(int(t)), ar[0])\n",
    "    plt.xlabel(\"ROIs\", fontsize = 15)\n",
    "    plt.ylabel(\"Principal Components (PCs)\", fontsize = 15)\n",
    "    plt.colorbar()\n",
    "    plt.show()\n",
    "\n",
    "### Example: first 10 descriptors ###\n",
    "b = np.asarray(pca.components_[0,0:10])\n",
    "c = np.asarray(pca.components_[1,0:10])\n",
    "a = df.columns[1:11]\n",
    "d = [a,b,c]\n",
    "heat_map(d, 0, 1)"
   ]
  },
  {
   "cell_type": "code",
   "execution_count": 19,
   "metadata": {},
   "outputs": [
    {
     "data": {
      "text/plain": [
       "(2, 1402)"
      ]
     },
     "execution_count": 19,
     "metadata": {},
     "output_type": "execute_result"
    }
   ],
   "source": [
    "### How much each feature contributes to each component\n",
    "pca.components_\n",
    "a = np.asarray(pca.components_)\n",
    "a.shape"
   ]
  },
  {
   "cell_type": "code",
   "execution_count": 20,
   "metadata": {
    "collapsed": true
   },
   "outputs": [],
   "source": [
    "##### Important Feature Extraction #####\n",
    "    # Function: Thresholds & Displays the Data\n",
    "    # c: array where rows = components, columns = descriptors, entries = contribution of descriptor to respective component\n",
    "def data_threshold(c,n, min, max):\n",
    "    threshold = n\n",
    "    d = c[1,:].astype(float) + c[2,:].astype(float)\n",
    "    d=d.reshape(1,c.shape[1])\n",
    "    d = np.vstack((d, d, d))\n",
    "    e=c[d > n]\n",
    "    e=np.asarray(e)\n",
    "    t = e.shape[0]\n",
    "\n",
    "    # number of descriptors that respect the threshold\n",
    "    t= t/3\n",
    "    print(t)\n",
    "\n",
    "    f=(e[0:int(t)])\n",
    "    g=(e[int(t):int(2*t)])\n",
    "    h=(e[int(2*t):int(3*t)])\n",
    "\n",
    "        # creating array with only columns from c that respect threshold!\n",
    "    final = np.vstack((f, g, h))\n",
    "    ###print(final.shape)\n",
    "    pd.DataFrame(final).to_csv(\"descript_\"+str(n)+\".csv\")\n",
    "    heat_map(final,min,max)"
   ]
  },
  {
   "cell_type": "code",
   "execution_count": 22,
   "metadata": {},
   "outputs": [
    {
     "name": "stdout",
     "output_type": "stream",
     "text": [
      "10.0\n"
     ]
    },
    {
     "data": {
      "image/png": "[encoded data removed]",
      "text/plain": [
       "<matplotlib.figure.Figure at 0x11419fb70>"
      ]
     },
     "metadata": {},
     "output_type": "display_data"
    }
   ],
   "source": [
    "#### TEST: Thresholding & Displaying Data\n",
    "features = list(df.columns)\n",
    "features.pop(0)\n",
    "features\n",
    "b = []\n",
    "b.append(features)\n",
    "b.append(a[0])\n",
    "b.append(a[1])\n",
    "c = np.asarray(b)\n",
    "c.shape\n",
    "data_threshold(c, 0.08,0,1)"
   ]
  },
  {
   "cell_type": "code",
   "execution_count": 18,
   "metadata": {},
   "outputs": [
    {
     "name": "stdout",
     "output_type": "stream",
     "text": [
      "(3, 1402)\n"
     ]
    }
   ],
   "source": [
    "print(c.shape)"
   ]
  },
  {
   "cell_type": "code",
   "execution_count": null,
   "metadata": {
    "collapsed": true
   },
   "outputs": [],
   "source": []
  }
 ],
 "metadata": {
  "kernelspec": {
   "display_name": "Python 3",
   "language": "python",
   "name": "python3"
  },
  "language_info": {
   "codemirror_mode": {
    "name": "ipython",
    "version": 3
   },
   "file_extension": ".py",
   "mimetype": "text/x-python",
   "name": "python",
   "nbconvert_exporter": "python",
   "pygments_lexer": "ipython3",
   "version": "3.6.1"
  }
 },
 "nbformat": 4,
 "nbformat_minor": 2
}
