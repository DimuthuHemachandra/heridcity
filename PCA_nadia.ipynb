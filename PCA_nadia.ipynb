{
 "cells": [
  {
   "cell_type": "code",
   "execution_count": 22,
   "metadata": {
    "collapsed": true
   },
   "outputs": [],
   "source": [
    "import matplotlib.pyplot as plt\n",
    "import pandas as pd\n",
    "%matplotlib inline\n",
    "import numpy as np\n",
    "from sklearn import preprocessing\n",
    "from sklearn.decomposition import PCA"
   ]
  },
  {
   "cell_type": "code",
   "execution_count": 23,
   "metadata": {},
   "outputs": [
    {
     "data": {
      "text/html": [
       "<div>\n",
       "<style>\n",
       "    .dataframe thead tr:only-child th {\n",
       "        text-align: right;\n",
       "    }\n",
       "\n",
       "    .dataframe thead th {\n",
       "        text-align: left;\n",
       "    }\n",
       "\n",
       "    .dataframe tbody tr th {\n",
       "        vertical-align: top;\n",
       "    }\n",
       "</style>\n",
       "<table border=\"1\" class=\"dataframe\">\n",
       "  <thead>\n",
       "    <tr style=\"text-align: right;\">\n",
       "      <th></th>\n",
       "      <th>Unnamed: 0</th>\n",
       "      <th>PreCG_L_SA</th>\n",
       "      <th>SFGdor_L_SA</th>\n",
       "      <th>ORBsup_L_SA</th>\n",
       "      <th>MFG_L_SA</th>\n",
       "      <th>ORBmid_L_SA</th>\n",
       "      <th>IFGoperc_L_SA</th>\n",
       "      <th>IFGtriang_L_SA</th>\n",
       "      <th>ORBinf_L_SA</th>\n",
       "      <th>ROL_L_SA</th>\n",
       "      <th>...</th>\n",
       "      <th>SMG_R_SA</th>\n",
       "      <th>ANG_R_SA</th>\n",
       "      <th>PCUN_R_SA</th>\n",
       "      <th>PCL_R_SA</th>\n",
       "      <th>HES_R_SA</th>\n",
       "      <th>STG_R_SA</th>\n",
       "      <th>TPOsup_R_SA</th>\n",
       "      <th>MTG_R_SA</th>\n",
       "      <th>TPOmid_R_SA</th>\n",
       "      <th>ITG_R_SA</th>\n",
       "    </tr>\n",
       "  </thead>\n",
       "  <tbody>\n",
       "    <tr>\n",
       "      <th>0</th>\n",
       "      <td>PreCG_L_SA</td>\n",
       "      <td>1.0000</td>\n",
       "      <td>1.0000</td>\n",
       "      <td>0.8808</td>\n",
       "      <td>1.0</td>\n",
       "      <td>0.9256</td>\n",
       "      <td>1.0</td>\n",
       "      <td>1.0000</td>\n",
       "      <td>1.0000</td>\n",
       "      <td>1.0000</td>\n",
       "      <td>...</td>\n",
       "      <td>0.8312</td>\n",
       "      <td>0.7842</td>\n",
       "      <td>1.0000</td>\n",
       "      <td>0.9024</td>\n",
       "      <td>0.8110</td>\n",
       "      <td>0.8331</td>\n",
       "      <td>1.0000</td>\n",
       "      <td>0.9818</td>\n",
       "      <td>0.8042</td>\n",
       "      <td>1.0000</td>\n",
       "    </tr>\n",
       "    <tr>\n",
       "      <th>1</th>\n",
       "      <td>SFGdor_L_SA</td>\n",
       "      <td>1.0000</td>\n",
       "      <td>1.0000</td>\n",
       "      <td>0.9189</td>\n",
       "      <td>1.0</td>\n",
       "      <td>0.7645</td>\n",
       "      <td>1.0</td>\n",
       "      <td>0.8382</td>\n",
       "      <td>0.7414</td>\n",
       "      <td>1.0000</td>\n",
       "      <td>...</td>\n",
       "      <td>0.3758</td>\n",
       "      <td>1.0000</td>\n",
       "      <td>1.0000</td>\n",
       "      <td>0.9258</td>\n",
       "      <td>0.6636</td>\n",
       "      <td>0.7735</td>\n",
       "      <td>0.8689</td>\n",
       "      <td>0.8347</td>\n",
       "      <td>0.6427</td>\n",
       "      <td>0.7782</td>\n",
       "    </tr>\n",
       "    <tr>\n",
       "      <th>2</th>\n",
       "      <td>ORBsup_L_SA</td>\n",
       "      <td>0.9280</td>\n",
       "      <td>0.9607</td>\n",
       "      <td>1.0000</td>\n",
       "      <td>1.0</td>\n",
       "      <td>0.7919</td>\n",
       "      <td>1.0</td>\n",
       "      <td>1.0000</td>\n",
       "      <td>1.0000</td>\n",
       "      <td>1.0000</td>\n",
       "      <td>...</td>\n",
       "      <td>0.7608</td>\n",
       "      <td>0.9722</td>\n",
       "      <td>1.0000</td>\n",
       "      <td>0.8467</td>\n",
       "      <td>0.8219</td>\n",
       "      <td>1.0000</td>\n",
       "      <td>0.9791</td>\n",
       "      <td>0.8936</td>\n",
       "      <td>0.6081</td>\n",
       "      <td>1.0000</td>\n",
       "    </tr>\n",
       "    <tr>\n",
       "      <th>3</th>\n",
       "      <td>MFG_L_SA</td>\n",
       "      <td>1.0000</td>\n",
       "      <td>1.0000</td>\n",
       "      <td>1.0000</td>\n",
       "      <td>1.0</td>\n",
       "      <td>1.0000</td>\n",
       "      <td>1.0</td>\n",
       "      <td>1.0000</td>\n",
       "      <td>1.0000</td>\n",
       "      <td>0.9119</td>\n",
       "      <td>...</td>\n",
       "      <td>0.9195</td>\n",
       "      <td>1.0000</td>\n",
       "      <td>0.9402</td>\n",
       "      <td>0.9235</td>\n",
       "      <td>0.7016</td>\n",
       "      <td>0.7807</td>\n",
       "      <td>0.9519</td>\n",
       "      <td>1.0000</td>\n",
       "      <td>0.5789</td>\n",
       "      <td>1.0000</td>\n",
       "    </tr>\n",
       "    <tr>\n",
       "      <th>4</th>\n",
       "      <td>ORBmid_L_SA</td>\n",
       "      <td>0.9645</td>\n",
       "      <td>0.9061</td>\n",
       "      <td>0.8225</td>\n",
       "      <td>1.0</td>\n",
       "      <td>1.0000</td>\n",
       "      <td>1.0</td>\n",
       "      <td>0.0000</td>\n",
       "      <td>0.7443</td>\n",
       "      <td>0.9306</td>\n",
       "      <td>...</td>\n",
       "      <td>0.5381</td>\n",
       "      <td>1.0000</td>\n",
       "      <td>0.8804</td>\n",
       "      <td>0.7556</td>\n",
       "      <td>0.5598</td>\n",
       "      <td>0.1014</td>\n",
       "      <td>0.9977</td>\n",
       "      <td>0.9775</td>\n",
       "      <td>0.1466</td>\n",
       "      <td>1.0000</td>\n",
       "    </tr>\n",
       "  </tbody>\n",
       "</table>\n",
       "<p>5 rows × 79 columns</p>\n",
       "</div>"
      ],
      "text/plain": [
       "    Unnamed: 0  PreCG_L_SA  SFGdor_L_SA  ORBsup_L_SA  MFG_L_SA  ORBmid_L_SA  \\\n",
       "0   PreCG_L_SA      1.0000       1.0000       0.8808       1.0       0.9256   \n",
       "1  SFGdor_L_SA      1.0000       1.0000       0.9189       1.0       0.7645   \n",
       "2  ORBsup_L_SA      0.9280       0.9607       1.0000       1.0       0.7919   \n",
       "3     MFG_L_SA      1.0000       1.0000       1.0000       1.0       1.0000   \n",
       "4  ORBmid_L_SA      0.9645       0.9061       0.8225       1.0       1.0000   \n",
       "\n",
       "   IFGoperc_L_SA  IFGtriang_L_SA  ORBinf_L_SA  ROL_L_SA    ...     SMG_R_SA  \\\n",
       "0            1.0          1.0000       1.0000    1.0000    ...       0.8312   \n",
       "1            1.0          0.8382       0.7414    1.0000    ...       0.3758   \n",
       "2            1.0          1.0000       1.0000    1.0000    ...       0.7608   \n",
       "3            1.0          1.0000       1.0000    0.9119    ...       0.9195   \n",
       "4            1.0          0.0000       0.7443    0.9306    ...       0.5381   \n",
       "\n",
       "   ANG_R_SA  PCUN_R_SA  PCL_R_SA  HES_R_SA  STG_R_SA  TPOsup_R_SA  MTG_R_SA  \\\n",
       "0    0.7842     1.0000    0.9024    0.8110    0.8331       1.0000    0.9818   \n",
       "1    1.0000     1.0000    0.9258    0.6636    0.7735       0.8689    0.8347   \n",
       "2    0.9722     1.0000    0.8467    0.8219    1.0000       0.9791    0.8936   \n",
       "3    1.0000     0.9402    0.9235    0.7016    0.7807       0.9519    1.0000   \n",
       "4    1.0000     0.8804    0.7556    0.5598    0.1014       0.9977    0.9775   \n",
       "\n",
       "   TPOmid_R_SA  ITG_R_SA  \n",
       "0       0.8042    1.0000  \n",
       "1       0.6427    0.7782  \n",
       "2       0.6081    1.0000  \n",
       "3       0.5789    1.0000  \n",
       "4       0.1466    1.0000  \n",
       "\n",
       "[5 rows x 79 columns]"
      ]
     },
     "execution_count": 23,
     "metadata": {},
     "output_type": "execute_result"
    }
   ],
   "source": [
    "df = pd.read_csv('SA_AAL_estPropA.csv')\n",
    "#df = df.drop(df.columns[0], axis = 'columns')\n",
    "df.shape\n",
    "df.head()\n",
    "# .csv prerocessing pipeline in clustering.pynb file"
   ]
  },
  {
   "cell_type": "code",
   "execution_count": 25,
   "metadata": {
    "collapsed": true
   },
   "outputs": [],
   "source": [
    "# Separating out & normalizing the features\n",
    "x = df.iloc[:, 1:79].values\n",
    "x = preprocessing.scale(x)\n",
    "y = df.iloc[:, 0].values\n",
    "\n",
    "targets = y"
   ]
  },
  {
   "cell_type": "code",
   "execution_count": 28,
   "metadata": {},
   "outputs": [
    {
     "data": {
      "image/png": "[encoded data removed]",
      "text/plain": [
       "<matplotlib.figure.Figure at 0x11d103668>"
      ]
     },
     "metadata": {},
     "output_type": "display_data"
    }
   ],
   "source": [
    "### PLOTTING # OF COMPONENTS BY VARIANCE EXPLAINED ###\n",
    "\n",
    "def pca_script(n, x, df): # n = number of components, x features\n",
    "    pca = PCA(n_components=n)\n",
    "    principalComponents = pca.fit_transform(x)\n",
    "    a = []\n",
    "    for i in range(1,n+1):\n",
    "        a.append(\"PCA_\"+str(n))\n",
    "    principalDf = pd.DataFrame(data = principalComponents, columns = a)\n",
    "    finalDf = pd.concat([principalDf, df.iloc[:, 0]], axis = 1)\n",
    "    var_ratio = pca.explained_variance_ratio_\n",
    "    components = pca.components_\n",
    "    return var_ratio, components\n",
    "\n",
    "def component_by_var(x, df):\n",
    "    a = []\n",
    "    b = []\n",
    "    for i in range(len(df.columns)):\n",
    "        var = pca_script(i,x,df)\n",
    "        a.append(i)\n",
    "        b.append(sum(var[0]))\n",
    "    return a,b\n",
    "\n",
    "comp = component_by_var(x, df)\n",
    "num_comp = comp[0]\n",
    "var_expl = comp[1]\n",
    "fig, ax = plt.subplots()\n",
    "ax.plot(num_comp, var_expl)\n",
    "\n",
    "ax.set(xlabel='components', ylabel='variance explained')\n",
    "       #title='Variance Explained by Number of Components')\n",
    "ax.grid()\n",
    "# plt.savefig('var_by_comp_num.png')"
   ]
  },
  {
   "cell_type": "code",
   "execution_count": 30,
   "metadata": {
    "collapsed": true
   },
   "outputs": [],
   "source": [
    "### ROI by Component Graph ###\n",
    "\n",
    "def pca_graph(n, x, df): # n = number of components, x features\n",
    "    if (n==2):\n",
    "        pca = PCA(n)\n",
    "        principalComponents = pca.fit_transform(x)\n",
    "        a = []\n",
    "        principalDf = pd.DataFrame(data = principalComponents, columns = ['PC1','PC2'])\n",
    "        finalDf = pd.concat([principalDf, df.iloc[:, 0]], axis = 1)  \n",
    "        fig = plt.figure(figsize = (8,8))\n",
    "        ax = fig.add_subplot(1,1,1) \n",
    "        ax.set_xlabel('PC1', fontsize = 15)\n",
    "        ax.set_ylabel('PC2', fontsize = 15)\n",
    "        ax.set_title('2-Component PCA', fontsize = 20)\n",
    "        for target in targets:\n",
    "            indicesToKeep = df.iloc[:, 0].values  == target\n",
    "            ax.scatter(finalDf.loc[indicesToKeep, 'PC1']\n",
    "                       , finalDf.loc[indicesToKeep, 'PC2'], s = 50)\n",
    "        ax.grid()\n",
    "        #plt.savefig('2_comp_pca.png')\n",
    "        return pca.explained_variance_ratio_, pca.components_\n",
    "    elif (n==3):\n",
    "        pca = PCA(n)\n",
    "        principalComponents = pca.fit_transform(x)\n",
    "        a = []\n",
    "        principalDf = pd.DataFrame(data = principalComponents, columns = ['PC1','PC2','PC3'])\n",
    "        finalDf = pd.concat([principalDf, df.iloc[:, 0]], axis = 1)  \n",
    "        fig = plt.figure(figsize = (8,8))\n",
    "        ax = fig.add_subplot(111,projection='3d') \n",
    "        ax.set_xlabel('PC1', fontsize = 15)\n",
    "        ax.set_ylabel('PC2', fontsize = 15)\n",
    "        ax.set_zlabel('PC3', fontsize = 15)\n",
    "        ax.set_title('3-Component PCA', fontsize = 20)\n",
    "        for target in targets:\n",
    "            indicesToKeep = df.iloc[:, 0].values  == target\n",
    "            ax.scatter(finalDf.loc[indicesToKeep, 'PC1'], finalDf.loc[indicesToKeep, 'PC2']\n",
    "                       , finalDf.loc[indicesToKeep, 'PC3'])\n",
    "               #, s = 50)\n",
    "        ax.grid()\n",
    "        #plt.savefig('3_comp_pca.png')\n",
    "        return pca.explained_variance_ratio_, pca.components_\n",
    "    else:\n",
    "        return"
   ]
  },
  {
   "cell_type": "code",
   "execution_count": 51,
   "metadata": {},
   "outputs": [
    {
     "name": "stdout",
     "output_type": "stream",
     "text": [
      "[ 0.20523434  0.06895159]\n"
     ]
    },
    {
     "data": {
      "image/png": "[encoded data removed]",
      "text/plain": [
       "<matplotlib.figure.Figure at 0x11d146908>"
      ]
     },
     "metadata": {},
     "output_type": "display_data"
    }
   ],
   "source": [
    "### Making a Graph ###\n",
    "pca_run = pca_graph(2, x, df)\n",
    "print(pca_run[0])\n",
    "\n",
    "### Variance explained by each component ###\n",
    "#print(a[0]) # pca.explained_variance_ratio_\n",
    "    # OUTPUT: array([ 0.23354774,  0.11475039])"
   ]
  },
  {
   "cell_type": "code",
   "execution_count": 47,
   "metadata": {
    "collapsed": true
   },
   "outputs": [],
   "source": [
    "### FUNCTION to generate heat map of each PC explained by descriptors ###\n",
    "\n",
    "def heat_map(ar, n, m):\n",
    "    c = np.delete(ar,0,0)\n",
    "    c = c.astype(np.float)\n",
    "    plt.matshow(c,cmap='viridis',vmin=n,vmax=m)\n",
    "    plt.yticks([0,1],['PC1','PC2'],fontsize=10)\n",
    "    t = c.shape[1]\n",
    "    \n",
    "    plt.xticks(range(int(t)), ar[0])\n",
    "    plt.xlabel(\"ROIs\", fontsize = 15)\n",
    "    plt.ylabel(\"Principal Components (PCs)\", fontsize = 15)\n",
    "    plt.colorbar()\n",
    "    plt.show()"
   ]
  },
  {
   "cell_type": "code",
   "execution_count": 48,
   "metadata": {},
   "outputs": [
    {
     "ename": "ValueError",
     "evalue": "not enough values to unpack (expected 2, got 1)",
     "output_type": "error",
     "traceback": [
      "\u001b[0;31m---------------------------------------------------------------------------\u001b[0m",
      "\u001b[0;31mValueError\u001b[0m                                Traceback (most recent call last)",
      "\u001b[0;32m<ipython-input-48-0d71df248aca>\u001b[0m in \u001b[0;36m<module>\u001b[0;34m()\u001b[0m\n\u001b[1;32m      6\u001b[0m \u001b[0maaa\u001b[0m \u001b[0;34m=\u001b[0m \u001b[0mdf\u001b[0m\u001b[0;34m.\u001b[0m\u001b[0mcolumns\u001b[0m\u001b[0;34m[\u001b[0m\u001b[0;36m1\u001b[0m\u001b[0;34m:\u001b[0m\u001b[0;36m11\u001b[0m\u001b[0;34m]\u001b[0m\u001b[0;34m\u001b[0m\u001b[0m\n\u001b[1;32m      7\u001b[0m \u001b[0meee\u001b[0m \u001b[0;34m=\u001b[0m \u001b[0;34m[\u001b[0m\u001b[0maaa\u001b[0m\u001b[0;34m,\u001b[0m\u001b[0mbbb\u001b[0m\u001b[0;34m,\u001b[0m\u001b[0mccc\u001b[0m\u001b[0;34m]\u001b[0m\u001b[0;34m\u001b[0m\u001b[0m\n\u001b[0;32m----> 8\u001b[0;31m \u001b[0mheat_map\u001b[0m\u001b[0;34m(\u001b[0m\u001b[0mddd\u001b[0m\u001b[0;34m,\u001b[0m \u001b[0;36m0\u001b[0m\u001b[0;34m,\u001b[0m \u001b[0;36m1\u001b[0m\u001b[0;34m)\u001b[0m\u001b[0;34m\u001b[0m\u001b[0m\n\u001b[0m",
      "\u001b[0;32m<ipython-input-47-6e4f0f07baeb>\u001b[0m in \u001b[0;36mheat_map\u001b[0;34m(ar, n, m)\u001b[0m\n\u001b[1;32m      4\u001b[0m     \u001b[0mc\u001b[0m \u001b[0;34m=\u001b[0m \u001b[0mnp\u001b[0m\u001b[0;34m.\u001b[0m\u001b[0mdelete\u001b[0m\u001b[0;34m(\u001b[0m\u001b[0mar\u001b[0m\u001b[0;34m,\u001b[0m\u001b[0;36m0\u001b[0m\u001b[0;34m,\u001b[0m\u001b[0;36m0\u001b[0m\u001b[0;34m)\u001b[0m\u001b[0;34m\u001b[0m\u001b[0m\n\u001b[1;32m      5\u001b[0m     \u001b[0mc\u001b[0m \u001b[0;34m=\u001b[0m \u001b[0mc\u001b[0m\u001b[0;34m.\u001b[0m\u001b[0mastype\u001b[0m\u001b[0;34m(\u001b[0m\u001b[0mnp\u001b[0m\u001b[0;34m.\u001b[0m\u001b[0mfloat\u001b[0m\u001b[0;34m)\u001b[0m\u001b[0;34m\u001b[0m\u001b[0m\n\u001b[0;32m----> 6\u001b[0;31m     \u001b[0mplt\u001b[0m\u001b[0;34m.\u001b[0m\u001b[0mmatshow\u001b[0m\u001b[0;34m(\u001b[0m\u001b[0mc\u001b[0m\u001b[0;34m,\u001b[0m\u001b[0mcmap\u001b[0m\u001b[0;34m=\u001b[0m\u001b[0;34m'viridis'\u001b[0m\u001b[0;34m,\u001b[0m\u001b[0mvmin\u001b[0m\u001b[0;34m=\u001b[0m\u001b[0mn\u001b[0m\u001b[0;34m,\u001b[0m\u001b[0mvmax\u001b[0m\u001b[0;34m=\u001b[0m\u001b[0mm\u001b[0m\u001b[0;34m)\u001b[0m\u001b[0;34m\u001b[0m\u001b[0m\n\u001b[0m\u001b[1;32m      7\u001b[0m     \u001b[0mplt\u001b[0m\u001b[0;34m.\u001b[0m\u001b[0myticks\u001b[0m\u001b[0;34m(\u001b[0m\u001b[0;34m[\u001b[0m\u001b[0;36m0\u001b[0m\u001b[0;34m,\u001b[0m\u001b[0;36m1\u001b[0m\u001b[0;34m]\u001b[0m\u001b[0;34m,\u001b[0m\u001b[0;34m[\u001b[0m\u001b[0;34m'PC1'\u001b[0m\u001b[0;34m,\u001b[0m\u001b[0;34m'PC2'\u001b[0m\u001b[0;34m]\u001b[0m\u001b[0;34m,\u001b[0m\u001b[0mfontsize\u001b[0m\u001b[0;34m=\u001b[0m\u001b[0;36m10\u001b[0m\u001b[0;34m)\u001b[0m\u001b[0;34m\u001b[0m\u001b[0m\n\u001b[1;32m      8\u001b[0m     \u001b[0mt\u001b[0m \u001b[0;34m=\u001b[0m \u001b[0mc\u001b[0m\u001b[0;34m.\u001b[0m\u001b[0mshape\u001b[0m\u001b[0;34m[\u001b[0m\u001b[0;36m1\u001b[0m\u001b[0;34m]\u001b[0m\u001b[0;34m\u001b[0m\u001b[0m\n",
      "\u001b[0;32m/anaconda3/lib/python3.6/site-packages/matplotlib/pyplot.py\u001b[0m in \u001b[0;36mmatshow\u001b[0;34m(A, fignum, **kw)\u001b[0m\n\u001b[1;32m   2352\u001b[0m     \u001b[0;32melse\u001b[0m\u001b[0;34m:\u001b[0m\u001b[0;34m\u001b[0m\u001b[0m\n\u001b[1;32m   2353\u001b[0m         \u001b[0;31m# Extract actual aspect ratio of array and make appropriately sized figure\u001b[0m\u001b[0;34m\u001b[0m\u001b[0;34m\u001b[0m\u001b[0m\n\u001b[0;32m-> 2354\u001b[0;31m         \u001b[0mfig\u001b[0m \u001b[0;34m=\u001b[0m \u001b[0mfigure\u001b[0m\u001b[0;34m(\u001b[0m\u001b[0mfignum\u001b[0m\u001b[0;34m,\u001b[0m \u001b[0mfigsize\u001b[0m\u001b[0;34m=\u001b[0m\u001b[0mfigaspect\u001b[0m\u001b[0;34m(\u001b[0m\u001b[0mA\u001b[0m\u001b[0;34m)\u001b[0m\u001b[0;34m)\u001b[0m\u001b[0;34m\u001b[0m\u001b[0m\n\u001b[0m\u001b[1;32m   2355\u001b[0m         \u001b[0max\u001b[0m  \u001b[0;34m=\u001b[0m \u001b[0mfig\u001b[0m\u001b[0;34m.\u001b[0m\u001b[0madd_axes\u001b[0m\u001b[0;34m(\u001b[0m\u001b[0;34m[\u001b[0m\u001b[0;36m0.15\u001b[0m\u001b[0;34m,\u001b[0m \u001b[0;36m0.09\u001b[0m\u001b[0;34m,\u001b[0m \u001b[0;36m0.775\u001b[0m\u001b[0;34m,\u001b[0m \u001b[0;36m0.775\u001b[0m\u001b[0;34m]\u001b[0m\u001b[0;34m)\u001b[0m\u001b[0;34m\u001b[0m\u001b[0m\n\u001b[1;32m   2356\u001b[0m \u001b[0;34m\u001b[0m\u001b[0m\n",
      "\u001b[0;32m/anaconda3/lib/python3.6/site-packages/matplotlib/figure.py\u001b[0m in \u001b[0;36mfigaspect\u001b[0;34m(arg)\u001b[0m\n\u001b[1;32m   1795\u001b[0m     \u001b[0;31m# Extract the aspect ratio of the array\u001b[0m\u001b[0;34m\u001b[0m\u001b[0;34m\u001b[0m\u001b[0m\n\u001b[1;32m   1796\u001b[0m     \u001b[0;32mif\u001b[0m \u001b[0misarray\u001b[0m\u001b[0;34m:\u001b[0m\u001b[0;34m\u001b[0m\u001b[0m\n\u001b[0;32m-> 1797\u001b[0;31m         \u001b[0mnr\u001b[0m\u001b[0;34m,\u001b[0m \u001b[0mnc\u001b[0m \u001b[0;34m=\u001b[0m \u001b[0marg\u001b[0m\u001b[0;34m.\u001b[0m\u001b[0mshape\u001b[0m\u001b[0;34m[\u001b[0m\u001b[0;34m:\u001b[0m\u001b[0;36m2\u001b[0m\u001b[0;34m]\u001b[0m\u001b[0;34m\u001b[0m\u001b[0m\n\u001b[0m\u001b[1;32m   1798\u001b[0m         \u001b[0marr_ratio\u001b[0m \u001b[0;34m=\u001b[0m \u001b[0mfloat\u001b[0m\u001b[0;34m(\u001b[0m\u001b[0mnr\u001b[0m\u001b[0;34m)\u001b[0m \u001b[0;34m/\u001b[0m \u001b[0mnc\u001b[0m\u001b[0;34m\u001b[0m\u001b[0m\n\u001b[1;32m   1799\u001b[0m     \u001b[0;32melse\u001b[0m\u001b[0;34m:\u001b[0m\u001b[0;34m\u001b[0m\u001b[0m\n",
      "\u001b[0;31mValueError\u001b[0m: not enough values to unpack (expected 2, got 1)"
     ]
    }
   ],
   "source": [
    "### Example: first 10 descriptors ###\n",
    "pca_components_ = pca_run[1]\n",
    "bbb = np.asarray(pca_components_[0,0:10])\n",
    "ccc = np.asarray(pca_components_[1,0:10])\n",
    "ddd = np.asarray(pca_components_[1,0:10])\n",
    "aaa = df.columns[1:11]\n",
    "eee = [aaa,bbb,ccc]\n",
    "heat_map(ddd, 0, 1)"
   ]
  },
  {
   "cell_type": "code",
   "execution_count": 106,
   "metadata": {},
   "outputs": [
    {
     "data": {
      "text/plain": [
       "(2, 78)"
      ]
     },
     "execution_count": 106,
     "metadata": {},
     "output_type": "execute_result"
    }
   ],
   "source": [
    "### How much each feature contributes to each component\n",
    "contrib = np.asarray(pca.components_)\n",
    "contrib.shape"
   ]
  },
  {
   "cell_type": "code",
   "execution_count": 107,
   "metadata": {
    "collapsed": true
   },
   "outputs": [],
   "source": [
    "##### Important Feature Extraction #####\n",
    "    # Function: Thresholds & Displays the Data\n",
    "    # c: array where rows = components, columns = descriptors, entries = contribution of descriptor to respective component\n",
    "def data_threshold(c,n, min, max):\n",
    "    threshold = n\n",
    "    d = c[1,:].astype(float) + c[2,:].astype(float)\n",
    "    d=d.reshape(1,c.shape[1])\n",
    "    d = np.vstack((d, d, d))\n",
    "    e=c[d > n]\n",
    "    e=np.asarray(e)\n",
    "    t = e.shape[0]\n",
    "\n",
    "    # number of descriptors that respect the threshold\n",
    "    t= t/3\n",
    "    print(t)\n",
    "\n",
    "    f=(e[0:int(t)])\n",
    "    g=(e[int(t):int(2*t)])\n",
    "    h=(e[int(2*t):int(3*t)])\n",
    "\n",
    "        # creating array with only columns from c that respect threshold!\n",
    "    final = np.vstack((f, g, h))\n",
    "    ###print(final.shape)\n",
    "    pd.DataFrame(final).to_csv(\"descript_\"+str(n)+\".csv\")\n",
    "    heat_map(final,min,max)"
   ]
  },
  {
   "cell_type": "code",
   "execution_count": 114,
   "metadata": {},
   "outputs": [
    {
     "name": "stdout",
     "output_type": "stream",
     "text": [
      "8.0\n"
     ]
    },
    {
     "data": {
      "image/png": "[encoded data removed]",
      "text/plain": [
       "<matplotlib.figure.Figure at 0x113e9a748>"
      ]
     },
     "metadata": {},
     "output_type": "display_data"
    }
   ],
   "source": [
    "#### TEST: Thresholding & Displaying Data\n",
    "comp_arr = np.asarray(pca.components_)\n",
    "features = list(df.columns)\n",
    "features.pop(0)\n",
    "features\n",
    "bb = []\n",
    "bb.append(features)\n",
    "bb.append(comp_arr[0])\n",
    "bb.append(comp_arr[1])\n",
    "cc = np.asarray(bb)\n",
    "cc.shape\n",
    "data_threshold(cc, 0.08,0,1)"
   ]
  }
 ],
 "metadata": {
  "kernelspec": {
   "display_name": "Python 3",
   "language": "python",
   "name": "python3"
  },
  "language_info": {
   "codemirror_mode": {
    "name": "ipython",
    "version": 3
   },
   "file_extension": ".py",
   "mimetype": "text/x-python",
   "name": "python",
   "nbconvert_exporter": "python",
   "pygments_lexer": "ipython3",
   "version": "3.6.1"
  }
 },
 "nbformat": 4,
 "nbformat_minor": 2
}
